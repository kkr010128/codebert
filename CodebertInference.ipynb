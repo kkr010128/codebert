{
 "cells": [
  {
   "cell_type": "code",
   "execution_count": null,
   "id": "83f3fd29",
   "metadata": {},
   "outputs": [],
   "source": [
    "import torch\n",
    "import pandas as pd\n",
    "from transformers import RobertaTokenizer, RobertaForSequenceClassification\n",
    "from tqdm import tqdm\n",
    "import matplotlib.pyplot as plt\n",
    "import re\n",
    "\n",
    "# 디바이스 설정 (Apple Silicon GPU 사용)\n",
    "device = torch.device(\"mps\")\n",
    "print(f\"Using device: {device}\")"
   ]
  },
  {
   "cell_type": "code",
   "execution_count": null,
   "id": "bef7ed77",
   "metadata": {},
   "outputs": [],
   "source": [
    "tokenizer = RobertaTokenizer.from_pretrained(\"microsoft/codebert-base\")\n",
    "model = RobertaForSequenceClassification.from_pretrained(\"microsoft/codebert-base\", num_labels=2)\n",
    "model.load_state_dict(torch.load(\"codebert_finetuned1.pt\", map_location=device))\n",
    "model.to(device)\n",
    "model.eval()"
   ]
  },
  {
   "cell_type": "code",
   "execution_count": null,
   "id": "c7e47258",
   "metadata": {},
   "outputs": [],
   "source": [
    "test_df = pd.read_csv(\"codebert_validation.csv\")\n",
    "\n",
    "def clean_code(code: str) -> str:\n",
    "    code = re.sub(r'\"\"\".*?\"\"\"|\\'\\'\\'.*?\\'\\'\\'', '', code, flags=re.DOTALL)\n",
    "    code = re.sub(r'#.*', '', code)\n",
    "    code = re.sub(r'\\s+', ' ', code)\n",
    "    return code.strip()\n",
    "\n",
    "test_df['code1'] = test_df['code1'].astype(str).apply(clean_code)\n",
    "test_df['code2'] = test_df['code2'].astype(str).apply(clean_code)"
   ]
  },
  {
   "cell_type": "code",
   "execution_count": null,
   "id": "70a99919",
   "metadata": {},
   "outputs": [],
   "source": [
    "predictions = []\n",
    "with torch.no_grad():\n",
    "    for i in tqdm(range(len(test_df))):\n",
    "        code1 = test_df.iloc[i]['code1']\n",
    "        code2 = test_df.iloc[i]['code2']\n",
    "        inputs = tokenizer(code1, code2, return_tensors=\"pt\", truncation=True, padding=True, max_length=256)\n",
    "        inputs = {k: v.to(device) for k, v in inputs.items()}\n",
    "        outputs = model(**inputs)\n",
    "        pred = torch.argmax(outputs.logits, dim=1)\n",
    "        predictions.append(pred.item())"
   ]
  },
  {
   "cell_type": "code",
   "execution_count": null,
   "id": "d98d2549",
   "metadata": {},
   "outputs": [],
   "source": [
    "submission = pd.DataFrame({\n",
    "    \"pair_id\": test_df[\"pair_id\"],\n",
    "    \"similar\": predictions\n",
    "})\n",
    "submission.to_csv(\"submission.csv\", index=False)\n",
    "submission.head()"
   ]
  },
  {
   "cell_type": "code",
   "execution_count": null,
   "id": "f36e0c43",
   "metadata": {},
   "outputs": [],
   "source": [
    "plt.figure(figsize=(6, 4))\n",
    "submission[\"similar\"].value_counts().sort_index().plot(kind=\"bar\", color=[\"skyblue\", \"salmon\"])\n",
    "# print(submission[\"similar\"].value_counts().sort_index())\n",
    "plt.title(\"Prediction Distribution\")\n",
    "plt.xlabel(\"Similarity Label\")\n",
    "plt.ylabel(\"Count\")\n",
    "plt.xticks(ticks=[0, 1], labels=[\"Not Similar\", \"Similar\"], rotation=0)\n",
    "plt.grid(axis=\"y\")\n",
    "plt.tight_layout()\n",
    "plt.savefig(\"prediction_distribution.png\")\n",
    "plt.show()"
   ]
  },
  {
   "cell_type": "code",
   "execution_count": null,
   "id": "968869a7",
   "metadata": {},
   "outputs": [],
   "source": [
    "from sklearn.metrics import accuracy_score\n",
    "\n",
    "# 실제 정답과 예측값 비교\n",
    "true_labels = test_df[\"similar\"].tolist()\n",
    "accuracy = accuracy_score(true_labels, predictions)\n",
    "\n",
    "print(f\"Validation Accuracy: {accuracy:.4f}\")"
   ]
  },
  {
   "cell_type": "code",
   "execution_count": null,
   "id": "1c9526a7",
   "metadata": {},
   "outputs": [],
   "source": []
  }
 ],
 "metadata": {
  "kernelspec": {
   "display_name": "practiceAI",
   "language": "python",
   "name": "python3"
  },
  "language_info": {
   "codemirror_mode": {
    "name": "ipython",
    "version": 3
   },
   "file_extension": ".py",
   "mimetype": "text/x-python",
   "name": "python",
   "nbconvert_exporter": "python",
   "pygments_lexer": "ipython3",
   "version": "3.9.21"
  }
 },
 "nbformat": 4,
 "nbformat_minor": 5
}
