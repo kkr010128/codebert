{
 "cells": [
  {
   "cell_type": "code",
   "execution_count": 1,
   "metadata": {},
   "outputs": [
    {
     "name": "stderr",
     "output_type": "stream",
     "text": [
      "/opt/anaconda3/envs/practiceAI/lib/python3.9/site-packages/tqdm/auto.py:21: TqdmWarning: IProgress not found. Please update jupyter and ipywidgets. See https://ipywidgets.readthedocs.io/en/stable/user_install.html\n",
      "  from .autonotebook import tqdm as notebook_tqdm\n"
     ]
    }
   ],
   "source": [
    "# 1. 모듈 임포트\n",
    "\n",
    "import os\n",
    "import re\n",
    "import torch\n",
    "import pandas as pd\n",
    "from torch.utils.data import Dataset, DataLoader\n",
    "from torch.nn import CrossEntropyLoss\n",
    "from torch.optim import AdamW\n",
    "from tqdm import tqdm\n",
    "from transformers import RobertaTokenizer, RobertaForSequenceClassification, get_scheduler\n",
    "import matplotlib.pyplot as plt"
   ]
  },
  {
   "cell_type": "code",
   "execution_count": 2,
   "metadata": {},
   "outputs": [],
   "source": [
    "# 2. 커스텀 Dataset 클래스 정의\n",
    "\n",
    "class CodePairDataset(Dataset):\n",
    "    def __init__(self, encodings, labels=None):\n",
    "        self.encodings = encodings\n",
    "        self.labels = labels\n",
    "\n",
    "    def __getitem__(self, idx):\n",
    "        item = {key: val[idx] for key, val in self.encodings.items()}\n",
    "        if self.labels is not None:\n",
    "            item[\"labels\"] = torch.tensor(self.labels[idx])\n",
    "        return item\n",
    "\n",
    "    def __len__(self):\n",
    "        return len(self.encodings[\"input_ids\"])"
   ]
  },
  {
   "cell_type": "code",
   "execution_count": 3,
   "metadata": {},
   "outputs": [
    {
     "name": "stdout",
     "output_type": "stream",
     "text": [
      "True\n",
      "True\n"
     ]
    }
   ],
   "source": [
    "print(torch.backends.mps.is_available())      # True: 사용 가능\n",
    "print(torch.backends.mps.is_built())"
   ]
  },
  {
   "cell_type": "code",
   "execution_count": null,
   "metadata": {},
   "outputs": [],
   "source": [
    "# 3. 하이퍼 파라미터 및 디바이스 설정\n",
    "\n",
    "device = torch.device(\"mps\")\n",
    "BATCH_SIZE = 24\n",
    "NUM_EPOCHS = 15\n",
    "MAX_LEN = 512"
   ]
  },
  {
   "cell_type": "code",
   "execution_count": 5,
   "metadata": {},
   "outputs": [],
   "source": [
    "# # 4. 디바이스 확인\n",
    "\n",
    "# print(torch.cuda.is_available())           # True면 GPU 사용 가능\n",
    "# print(torch.cuda.get_device_name(0))       # 사용 중인 GPU 이름\n",
    "# print(torch.cuda.current_device())         # 현재 선택된 디바이스 인덱스\n",
    "# print(torch.cuda.device_count())           # 사용 가능한 GPU 개수\n",
    "# print(torch.cuda.device(0))  "
   ]
  },
  {
   "cell_type": "code",
   "execution_count": 6,
   "metadata": {},
   "outputs": [],
   "source": [
    "# 5. 데이터 불러오기 및 전처리\n",
    "\n",
    "train_df = pd.read_csv(\"codebert_train.csv\")\n",
    "test_df = pd.read_csv(\"codebert_validation.csv\")\n",
    "\n",
    "def clean_code(code: str) -> str:\n",
    "    # 다중행 주석 제거: '''...''' 또는 \"\"\"...\"\"\" 형태의 문자열을 제거 (정규표현식 DOTALL 사용으로 줄바꿈 포함)\n",
    "    code = re.sub(r'\"\"\".*?\"\"\"|\\'\\'\\'.*?\\'\\'\\'', '', code, flags=re.DOTALL)\n",
    "\n",
    "    # 한 줄 주석 제거: '#'부터 라인 끝까지의 주석 제거\n",
    "    code = re.sub(r'#.*', '', code)\n",
    "\n",
    "    # 연속된 공백 문자 제거: 공백, 탭, 개행 등을 하나의 공백으로 축소\n",
    "    code = re.sub(r'\\s+', ' ', code)\n",
    "\n",
    "    # 양쪽 공백 제거 후 반환\n",
    "    return code.strip()\n",
    "\n",
    "train_df['code1'] = train_df['code1'].astype(str).apply(clean_code)\n",
    "train_df['code2'] = train_df['code2'].astype(str).apply(clean_code)\n",
    "test_df['code1'] = test_df['code1'].astype(str).apply(clean_code)\n",
    "test_df['code2'] = test_df['code2'].astype(str).apply(clean_code)"
   ]
  },
  {
   "cell_type": "code",
   "execution_count": 7,
   "metadata": {},
   "outputs": [],
   "source": [
    "# transformers 경고 무시\n",
    "from transformers import logging\n",
    "logging.set_verbosity_error()"
   ]
  },
  {
   "cell_type": "code",
   "execution_count": 8,
   "metadata": {},
   "outputs": [],
   "source": [
    "# 6. 토크나이징 및 데이터셋/로더 정의\n",
    "\n",
    "tokenizer = RobertaTokenizer.from_pretrained(\"microsoft/codebert-base\")\n",
    "train_encodings = tokenizer(train_df['code1'].tolist(), train_df['code2'].tolist(), truncation=True, padding=True, max_length=MAX_LEN, return_tensors=\"pt\")\n",
    "test_encodings = tokenizer(test_df['code1'].tolist(), test_df['code2'].tolist(), truncation=True, padding=True, max_length=MAX_LEN, return_tensors=\"pt\")\n",
    "train_labels = train_df[\"similar\"].tolist()\n",
    "\n",
    "train_dataset = CodePairDataset(train_encodings, train_labels)\n",
    "test_dataset = CodePairDataset(test_encodings)\n",
    "\n",
    "train_loader = DataLoader(train_dataset, batch_size=BATCH_SIZE, shuffle=True, num_workers=0)\n",
    "test_loader = DataLoader(test_dataset, batch_size=BATCH_SIZE, shuffle=False, num_workers=0)"
   ]
  },
  {
   "cell_type": "code",
   "execution_count": 9,
   "metadata": {},
   "outputs": [],
   "source": [
    "# 7. 모델 및 옵티마이저 정의\n",
    "\n",
    "model = RobertaForSequenceClassification.from_pretrained(\"microsoft/codebert-base\", num_labels=2)\n",
    "model.to(device)\n",
    "\n",
    "optimizer = AdamW(model.parameters(), lr=5e-5)\n",
    "loss_fn = CrossEntropyLoss()\n",
    "num_training_steps = NUM_EPOCHS * len(train_loader)\n",
    "lr_scheduler = get_scheduler(\"linear\", optimizer=optimizer, num_warmup_steps=0, num_training_steps=num_training_steps)"
   ]
  },
  {
   "cell_type": "code",
   "execution_count": 10,
   "metadata": {},
   "outputs": [],
   "source": [
    "# import torch\n",
    "# print(torch.cuda.is_available())\n",
    "# print(torch.cuda.get_device_name(0))"
   ]
  },
  {
   "cell_type": "code",
   "execution_count": 11,
   "metadata": {},
   "outputs": [
    {
     "name": "stderr",
     "output_type": "stream",
     "text": [
      "Epoch 1: 100%|██████████| 625/625 [15:30<00:00,  1.49s/it, loss=0.353]\n",
      "Epoch 2: 100%|██████████| 625/625 [15:13<00:00,  1.46s/it, loss=0.131]\n",
      "Epoch 3: 100%|██████████| 625/625 [14:57<00:00,  1.44s/it, loss=0.07]  \n",
      "Epoch 4: 100%|██████████| 625/625 [14:38<00:00,  1.40s/it, loss=0.0486]\n",
      "Epoch 5: 100%|██████████| 625/625 [15:00<00:00,  1.44s/it, loss=0.0389]\n",
      "Epoch 6: 100%|██████████| 625/625 [14:49<00:00,  1.42s/it, loss=0.0267]\n",
      "Epoch 7: 100%|██████████| 625/625 [14:40<00:00,  1.41s/it, loss=0.0175]\n",
      "Epoch 8: 100%|██████████| 625/625 [14:57<00:00,  1.44s/it, loss=0.0141]\n",
      "Epoch 9: 100%|██████████| 625/625 [14:57<00:00,  1.44s/it, loss=0.0113]\n",
      "Epoch 10: 100%|██████████| 625/625 [14:58<00:00,  1.44s/it, loss=0.00404]\n",
      "Epoch 11: 100%|██████████| 625/625 [15:03<00:00,  1.45s/it, loss=0.00469]\n",
      "Epoch 12: 100%|██████████| 625/625 [14:53<00:00,  1.43s/it, loss=0.00152]\n",
      "Epoch 13: 100%|██████████| 625/625 [14:53<00:00,  1.43s/it, loss=0.00289] \n",
      "Epoch 14: 100%|██████████| 625/625 [14:52<00:00,  1.43s/it, loss=0.00115]\n",
      "Epoch 15: 100%|██████████| 625/625 [15:03<00:00,  1.45s/it, loss=0.00121] \n"
     ]
    }
   ],
   "source": [
    "# 8. 모델 학습 루프\n",
    "\n",
    "epoch_losses = []\n",
    "model.train()\n",
    "\n",
    "for epoch in range(NUM_EPOCHS):\n",
    "    progress_bar = tqdm(train_loader, desc=f\"Epoch {epoch+1}\")\n",
    "    total_loss = 0\n",
    "    for batch in progress_bar:\n",
    "        batch = {k: v.to(device) for k, v in batch.items()}\n",
    "        outputs = model(**batch)\n",
    "        loss = outputs.loss\n",
    "        loss.backward()\n",
    "        optimizer.step()\n",
    "        lr_scheduler.step()\n",
    "        optimizer.zero_grad()\n",
    "        total_loss += loss.item()\n",
    "        progress_bar.set_postfix(loss=total_loss / (progress_bar.n + 1))\n",
    "    avg_loss = total_loss / len(train_loader)\n",
    "    epoch_losses.append(avg_loss)"
   ]
  },
  {
   "cell_type": "code",
   "execution_count": 12,
   "metadata": {},
   "outputs": [
    {
     "data": {
      "image/png": "[encoded data removed]",
      "text/plain": [
       "<Figure size 1000x500 with 1 Axes>"
      ]
     },
     "metadata": {},
     "output_type": "display_data"
    }
   ],
   "source": [
    "# 9. 모델 저장 및 시각화\n",
    "\n",
    "torch.save(model.state_dict(), \"codebert_finetuned.pt\")\n",
    "\n",
    "plt.figure(figsize=(10, 5))\n",
    "plt.plot(range(1, NUM_EPOCHS + 1), epoch_losses, marker='o')\n",
    "plt.title(\"Training Loss per Epoch\")\n",
    "plt.xlabel(\"Epoch\")\n",
    "plt.ylabel(\"Loss\")\n",
    "plt.grid(True)\n",
    "plt.savefig(\"loss_plot.png\")\n",
    "plt.show()"
   ]
  }
 ],
 "metadata": {
  "kernelspec": {
   "display_name": "practiceAI",
   "language": "python",
   "name": "python3"
  },
  "language_info": {
   "codemirror_mode": {
    "name": "ipython",
    "version": 3
   },
   "file_extension": ".py",
   "mimetype": "text/x-python",
   "name": "python",
   "nbconvert_exporter": "python",
   "pygments_lexer": "ipython3",
   "version": "3.9.21"
  }
 },
 "nbformat": 4,
 "nbformat_minor": 2
}
